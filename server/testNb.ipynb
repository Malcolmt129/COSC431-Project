{
 "cells": [
  {
   "cell_type": "code",
   "execution_count": 1,
   "metadata": {},
   "outputs": [],
   "source": [
    "from mongoConnection import MongoConnection\n",
    "import pandas as pd\n",
    "db = MongoConnection()"
   ]
  },
  {
   "cell_type": "code",
   "execution_count": 2,
   "metadata": {},
   "outputs": [
    {
     "name": "stdout",
     "output_type": "stream",
     "text": [
      "{'_id': ObjectId('6366c7de3cbb4d70ee338b60'), 'x': 1667437200, 'y': {'open': 1518.2824463918216, 'high': 1535.789490494894, 'low': 1515.731500928028, 'close': 1531.5460372736813}}\n",
      "{'_id': ObjectId('6366c7de3cbb4d70ee338b61'), 'x': 1667440800, 'y': {'open': 1531.295546396636, 'high': 1546.3014434294025, 'low': 1529.771299266442, 'close': 1543.4990297405293}}\n",
      "{'_id': ObjectId('6366c7de3cbb4d70ee338b62'), 'x': 1667444400, 'y': {'open': 1543.0555778362348, 'high': 1548.4933645438955, 'low': 1542.03045169499, 'close': 1543.1503127612978}}\n",
      "{'_id': ObjectId('6366c9b761d835c520fdd5cb'), 'x': 1667437200, 'y': {'open': 1518.2824463918216, 'high': 1535.789490494894, 'low': 1515.731500928028, 'close': 1531.5460372736813}}\n",
      "{'_id': ObjectId('6366c9b761d835c520fdd5cc'), 'x': 1667440800, 'y': {'open': 1531.295546396636, 'high': 1546.3014434294025, 'low': 1529.771299266442, 'close': 1543.4990297405293}}\n",
      "{'_id': ObjectId('6366c9b761d835c520fdd5cd'), 'x': 1667444400, 'y': {'open': 1543.0555778362348, 'high': 1548.4933645438955, 'low': 1542.03045169499, 'close': 1543.1503127612978}}\n",
      "{'_id': ObjectId('6366ca304eaeaac42304da62'), 'x': 1667437200, 'y': {'open': 1518.2824463918216, 'high': 1535.789490494894, 'low': 1515.731500928028, 'close': 1531.5460372736813}}\n",
      "{'_id': ObjectId('6366ca304eaeaac42304da63'), 'x': 1667440800, 'y': {'open': 1531.295546396636, 'high': 1546.3014434294025, 'low': 1529.771299266442, 'close': 1543.4990297405293}}\n",
      "{'_id': ObjectId('6366ca304eaeaac42304da64'), 'x': 1667444400, 'y': {'open': 1543.0555778362348, 'high': 1548.4933645438955, 'low': 1542.03045169499, 'close': 1543.1503127612978}}\n"
     ]
    }
   ],
   "source": [
    "res = db.query_from_to(1667437200,1667444400)\n",
    "for doc in res:\n",
    "    print(doc)"
   ]
  }
 ],
 "metadata": {
  "kernelspec": {
   "display_name": "Python 3.8.10 64-bit",
   "language": "python",
   "name": "python3"
  },
  "language_info": {
   "codemirror_mode": {
    "name": "ipython",
    "version": 3
   },
   "file_extension": ".py",
   "mimetype": "text/x-python",
   "name": "python",
   "nbconvert_exporter": "python",
   "pygments_lexer": "ipython3",
   "version": "3.8.10"
  },
  "orig_nbformat": 4,
  "vscode": {
   "interpreter": {
    "hash": "916dbcbb3f70747c44a77c7bcd40155683ae19c65e1c03b4aa3499c5328201f1"
   }
  }
 },
 "nbformat": 4,
 "nbformat_minor": 2
}
