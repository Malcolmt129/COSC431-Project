{
 "cells": [
  {
   "cell_type": "code",
   "execution_count": null,
   "metadata": {},
   "outputs": [],
   "source": [
    "from mongoConnection import MongoConnection\n",
    "import pandas as pd\n",
    "import pprint\n",
    "\n",
    "\n",
    "db = MongoConnection()\n",
    "ma_list = [10,50]\n",
    "max_drawdown = 0\n",
    "win_loss = 0\n",
    "exp_profit = 0 \n"
   ]
  },
  {
   "cell_type": "code",
   "execution_count": null,
   "metadata": {},
   "outputs": [],
   "source": [
    " #This returns an iterable 'cursor' object\n",
    "res = db.query_from_to(1638331200,1641196800)\n",
    "\n",
    "df = pd.DataFrame(res)\n",
    "df.rename(columns = {'x':'Time'}, inplace = True)\n",
    "split = pd.DataFrame(df[\"y\"].tolist(),columns=[\"Open\",\"High\",\"Low\",\"Close\"])\n",
    "df = pd.concat([df,split], axis=1)\n",
    "df = df.drop(\"y\", axis=1)\n",
    "\n",
    "print(df)\n",
    "\n"
   ]
  },
  {
   "cell_type": "code",
   "execution_count": null,
   "metadata": {},
   "outputs": [],
   "source": [
    "def is_trade(row):\n",
    "    if row.DIFF >= 0 and row.DIFF_PREV < 0:\n",
    "        return 1\n",
    "    if row.DIFF <= 0 and row.DIFF_PREV > 0:\n",
    "        return -1\n",
    "    return 0\n",
    "\n",
    "def max_draw(row):\n",
    "    local_max = 0\n",
    "    max_drawdown = 0\n",
    "    for num in row:\n",
    "        if num < 0:\n",
    "            local_max+=num\n",
    "            if local_max < max_drawdown:\n",
    "                max_drawdown = local_max\n",
    "        else:\n",
    "            local_max = 0\n",
    "    return max_drawdown\n",
    "\n",
    "def winCount(row):\n",
    "    count = 0\n",
    "    for num in row:\n",
    "        if num >= 0:\n",
    "            count+=1\n",
    "    return count\n",
    "            \n",
    "    \n",
    "            "
   ]
  },
  {
   "cell_type": "code",
   "execution_count": null,
   "metadata": {},
   "outputs": [],
   "source": [
    "# These are the fast and slow moving averages that we are applying\n",
    "\n",
    "df_ma = df.copy()\n",
    "for ma in ma_list:\n",
    "    df_ma[f'MA_{ma}'] = df_ma.Close.rolling(window=ma).mean() #Create the moving average column\n",
    "    \n",
    "df_ma['DIFF'] = df_ma.MA_10 - df_ma.MA_50 # create a new column that takes the different between the two moving averages\n",
    "df_ma['DIFF_PREV'] = df_ma.DIFF.shift(1) # creates a new column that shifts down the diff column, used to determine if there will be a trade\n",
    "df_ma['IS_TRADE'] = df_ma.apply(is_trade, axis=1) #Lets you know if you should've made trade based on strategy.\n",
    "\n",
    "df_trades = df_ma[df_ma.IS_TRADE!=0].copy() # Creates a dataframe to analyzes all entries that you should've traded... for later stats \n",
    "\n",
    "df_ma.tail()\n"
   ]
  },
  {
   "cell_type": "code",
   "execution_count": null,
   "metadata": {},
   "outputs": [],
   "source": [
    "\n",
    "df_trades[\"DELTA\"] = df_trades.Close.diff().shift(-1)\n",
    "df_trades[\"GAIN\"] = df_trades[\"DELTA\"] * df_trades[\"IS_TRADE\"]\n",
    "exp_profit = df_trades[\"GAIN\"].sum() # tested... works\n",
    "\n",
    "max_drawdown = max_draw(df_trades[\"GAIN\"]) #tested... works \n",
    "\n",
    "print(exp_profit)\n",
    "print(max_drawdown)\n",
    "\n",
    "win_loss = winCount(df_trades[\"GAIN\"]) / (len(df_trades)-1)\n",
    "print(win_loss)\n",
    "\n",
    "print(df_trades)"
   ]
  },
  {
   "cell_type": "code",
   "execution_count": null,
   "metadata": {},
   "outputs": [],
   "source": []
  }
 ],
 "metadata": {
  "kernelspec": {
   "display_name": "Python 3.8.10 64-bit",
   "language": "python",
   "name": "python3"
  },
  "language_info": {
   "codemirror_mode": {
    "name": "ipython",
    "version": 3
   },
   "file_extension": ".py",
   "mimetype": "text/x-python",
   "name": "python",
   "nbconvert_exporter": "python",
   "pygments_lexer": "ipython3",
   "version": "3.8.10"
  },
  "orig_nbformat": 4,
  "vscode": {
   "interpreter": {
    "hash": "916dbcbb3f70747c44a77c7bcd40155683ae19c65e1c03b4aa3499c5328201f1"
   }
  }
 },
 "nbformat": 4,
 "nbformat_minor": 2
}
