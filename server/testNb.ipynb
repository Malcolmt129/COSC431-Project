{
 "cells": [
  {
   "cell_type": "code",
   "execution_count": 1,
   "metadata": {},
   "outputs": [],
   "source": [
    "from mongoConnection import MongoConnection\n",
    "import pandas as pd\n",
    "db = MongoConnection()"
   ]
  },
  {
   "cell_type": "code",
   "execution_count": 10,
   "metadata": {},
   "outputs": [
    {
     "name": "stdout",
     "output_type": "stream",
     "text": [
      "            x         open         high          low        close\n",
      "0  1667437200  1518.282446  1535.789490  1515.731501  1531.546037\n",
      "1  1667440800  1531.295546  1546.301443  1529.771299  1543.499030\n",
      "2  1667444400  1543.055578  1548.493365  1542.030452  1543.150313\n",
      "3  1667437200  1518.282446  1535.789490  1515.731501  1531.546037\n",
      "4  1667440800  1531.295546  1546.301443  1529.771299  1543.499030\n",
      "5  1667444400  1543.055578  1548.493365  1542.030452  1543.150313\n",
      "6  1667437200  1518.282446  1535.789490  1515.731501  1531.546037\n",
      "7  1667440800  1531.295546  1546.301443  1529.771299  1543.499030\n",
      "8  1667444400  1543.055578  1548.493365  1542.030452  1543.150313\n"
     ]
    }
   ],
   "source": [
    "res = db.query_from_to(1667437200,1667444400) #This returns an iterable 'cursor' object \n",
    "\"\"\" This next bit of code makes a dataframe of all the of stuff from our query!\n",
    "    Then it strips the dataframe of the stuff we dont need. All you are left with \n",
    "    is the time and the high open low close.\n",
    "    \"\"\"\n",
    "\n",
    "ourData = []\n",
    "for candle in res:\n",
    "    ourData.append(candle)\n",
    "\n",
    "df = pd.DataFrame(ourData)\n",
    "\n",
    "df = pd.concat([df,df[\"y\"].apply(pd.Series)], axis=1)\n",
    "\n",
    "df = df.drop(columns=\"y\")\n",
    "print(df)\n"
   ]
  },
  {
   "cell_type": "code",
   "execution_count": 9,
   "metadata": {},
   "outputs": [
    {
     "name": "stdout",
     "output_type": "stream",
     "text": [
      "            x         open         high          low        close        MA_9  \\\n",
      "0  1667437200  1518.282446  1535.789490  1515.731501  1531.546037         NaN   \n",
      "1  1667440800  1531.295546  1546.301443  1529.771299  1543.499030         NaN   \n",
      "2  1667444400  1543.055578  1548.493365  1542.030452  1543.150313         NaN   \n",
      "3  1667437200  1518.282446  1535.789490  1515.731501  1531.546037         NaN   \n",
      "4  1667440800  1531.295546  1546.301443  1529.771299  1543.499030         NaN   \n",
      "5  1667444400  1543.055578  1548.493365  1542.030452  1543.150313         NaN   \n",
      "6  1667437200  1518.282446  1535.789490  1515.731501  1531.546037         NaN   \n",
      "7  1667440800  1531.295546  1546.301443  1529.771299  1543.499030         NaN   \n",
      "8  1667444400  1543.055578  1548.493365  1542.030452  1543.150313  1539.39846   \n",
      "\n",
      "   MA_27  \n",
      "0    NaN  \n",
      "1    NaN  \n",
      "2    NaN  \n",
      "3    NaN  \n",
      "4    NaN  \n",
      "5    NaN  \n",
      "6    NaN  \n",
      "7    NaN  \n",
      "8    NaN  \n"
     ]
    }
   ],
   "source": [
    "# These are the fast and slow moving averages that we are applying\n",
    "ma_list = [9,27]\n",
    "\n",
    "df_ma = df.copy()\n",
    "for ma in ma_list:\n",
    "    df_ma[f'MA_{ma}'] = df_ma.close.rolling(window=ma).mean()\n",
    "\n",
    "print(df_ma)\n"
   ]
  }
 ],
 "metadata": {
  "kernelspec": {
   "display_name": "Python 3.8.10 64-bit",
   "language": "python",
   "name": "python3"
  },
  "language_info": {
   "codemirror_mode": {
    "name": "ipython",
    "version": 3
   },
   "file_extension": ".py",
   "mimetype": "text/x-python",
   "name": "python",
   "nbconvert_exporter": "python",
   "pygments_lexer": "ipython3",
   "version": "3.8.10"
  },
  "orig_nbformat": 4,
  "vscode": {
   "interpreter": {
    "hash": "916dbcbb3f70747c44a77c7bcd40155683ae19c65e1c03b4aa3499c5328201f1"
   }
  }
 },
 "nbformat": 4,
 "nbformat_minor": 2
}
